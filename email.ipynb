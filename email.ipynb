{
 "cells": [
  {
   "cell_type": "code",
   "execution_count": 11,
   "metadata": {},
   "outputs": [
    {
     "name": "stdout",
     "output_type": "stream",
     "text": [
      "Requirement already satisfied: google-api-python-client in /Users/cindywu/opt/anaconda3/lib/python3.9/site-packages (2.74.0)\n",
      "Collecting google-api-python-client\n",
      "  Downloading google_api_python_client-2.147.0-py2.py3-none-any.whl (12.2 MB)\n",
      "\u001b[2K     \u001b[90m━━━━━━━━━━━━━━━━━━━━━━━━━━━━━━━━━━━━━━━━\u001b[0m \u001b[32m12.2/12.2 MB\u001b[0m \u001b[31m28.3 MB/s\u001b[0m eta \u001b[36m0:00:00\u001b[0m00:01\u001b[0m00:01\u001b[0m\n",
      "\u001b[?25hRequirement already satisfied: google-auth-httplib2 in /Users/cindywu/opt/anaconda3/lib/python3.9/site-packages (0.1.0)\n",
      "Collecting google-auth-httplib2\n",
      "  Downloading google_auth_httplib2-0.2.0-py2.py3-none-any.whl (9.3 kB)\n",
      "Requirement already satisfied: google-auth-oauthlib in /Users/cindywu/opt/anaconda3/lib/python3.9/site-packages (0.8.0)\n",
      "Collecting google-auth-oauthlib\n",
      "  Downloading google_auth_oauthlib-1.2.1-py2.py3-none-any.whl (24 kB)\n",
      "Requirement already satisfied: httplib2<1.dev0,>=0.19.0 in /Users/cindywu/opt/anaconda3/lib/python3.9/site-packages (from google-api-python-client) (0.21.0)\n",
      "Requirement already satisfied: uritemplate<5,>=3.0.1 in /Users/cindywu/opt/anaconda3/lib/python3.9/site-packages (from google-api-python-client) (4.1.1)\n",
      "Requirement already satisfied: google-auth!=2.24.0,!=2.25.0,<3.0.0.dev0,>=1.32.0 in /Users/cindywu/opt/anaconda3/lib/python3.9/site-packages (from google-api-python-client) (2.16.0)\n",
      "Requirement already satisfied: google-api-core!=2.0.*,!=2.1.*,!=2.2.*,!=2.3.0,<3.0.0.dev0,>=1.31.5 in /Users/cindywu/opt/anaconda3/lib/python3.9/site-packages (from google-api-python-client) (2.11.0)\n",
      "Requirement already satisfied: requests-oauthlib>=0.7.0 in /Users/cindywu/opt/anaconda3/lib/python3.9/site-packages (from google-auth-oauthlib) (1.3.1)\n",
      "Requirement already satisfied: googleapis-common-protos<2.0dev,>=1.56.2 in /Users/cindywu/opt/anaconda3/lib/python3.9/site-packages (from google-api-core!=2.0.*,!=2.1.*,!=2.2.*,!=2.3.0,<3.0.0.dev0,>=1.31.5->google-api-python-client) (1.58.0)\n",
      "Requirement already satisfied: protobuf!=3.20.0,!=3.20.1,!=4.21.0,!=4.21.1,!=4.21.2,!=4.21.3,!=4.21.4,!=4.21.5,<5.0.0dev,>=3.19.5 in /Users/cindywu/opt/anaconda3/lib/python3.9/site-packages (from google-api-core!=2.0.*,!=2.1.*,!=2.2.*,!=2.3.0,<3.0.0.dev0,>=1.31.5->google-api-python-client) (3.20.3)\n",
      "Requirement already satisfied: requests<3.0.0dev,>=2.18.0 in /Users/cindywu/opt/anaconda3/lib/python3.9/site-packages (from google-api-core!=2.0.*,!=2.1.*,!=2.2.*,!=2.3.0,<3.0.0.dev0,>=1.31.5->google-api-python-client) (2.32.3)\n",
      "Requirement already satisfied: six>=1.9.0 in /Users/cindywu/opt/anaconda3/lib/python3.9/site-packages (from google-auth!=2.24.0,!=2.25.0,<3.0.0.dev0,>=1.32.0->google-api-python-client) (1.16.0)\n",
      "Requirement already satisfied: cachetools<6.0,>=2.0.0 in /Users/cindywu/opt/anaconda3/lib/python3.9/site-packages (from google-auth!=2.24.0,!=2.25.0,<3.0.0.dev0,>=1.32.0->google-api-python-client) (5.3.0)\n",
      "Requirement already satisfied: pyasn1-modules>=0.2.1 in /Users/cindywu/opt/anaconda3/lib/python3.9/site-packages (from google-auth!=2.24.0,!=2.25.0,<3.0.0.dev0,>=1.32.0->google-api-python-client) (0.2.8)\n",
      "Requirement already satisfied: rsa<5,>=3.1.4 in /Users/cindywu/opt/anaconda3/lib/python3.9/site-packages (from google-auth!=2.24.0,!=2.25.0,<3.0.0.dev0,>=1.32.0->google-api-python-client) (4.9)\n",
      "Requirement already satisfied: pyparsing!=3.0.0,!=3.0.1,!=3.0.2,!=3.0.3,<4,>=2.4.2 in /Users/cindywu/opt/anaconda3/lib/python3.9/site-packages (from httplib2<1.dev0,>=0.19.0->google-api-python-client) (3.0.9)\n",
      "Requirement already satisfied: oauthlib>=3.0.0 in /Users/cindywu/opt/anaconda3/lib/python3.9/site-packages (from requests-oauthlib>=0.7.0->google-auth-oauthlib) (3.2.2)\n",
      "Requirement already satisfied: pyasn1<0.5.0,>=0.4.6 in /Users/cindywu/opt/anaconda3/lib/python3.9/site-packages (from pyasn1-modules>=0.2.1->google-auth!=2.24.0,!=2.25.0,<3.0.0.dev0,>=1.32.0->google-api-python-client) (0.4.8)\n",
      "Requirement already satisfied: charset-normalizer<4,>=2 in /Users/cindywu/opt/anaconda3/lib/python3.9/site-packages (from requests<3.0.0dev,>=2.18.0->google-api-core!=2.0.*,!=2.1.*,!=2.2.*,!=2.3.0,<3.0.0.dev0,>=1.31.5->google-api-python-client) (2.0.4)\n",
      "Requirement already satisfied: urllib3<3,>=1.21.1 in /Users/cindywu/opt/anaconda3/lib/python3.9/site-packages (from requests<3.0.0dev,>=2.18.0->google-api-core!=2.0.*,!=2.1.*,!=2.2.*,!=2.3.0,<3.0.0.dev0,>=1.31.5->google-api-python-client) (1.26.11)\n",
      "Requirement already satisfied: certifi>=2017.4.17 in /Users/cindywu/opt/anaconda3/lib/python3.9/site-packages (from requests<3.0.0dev,>=2.18.0->google-api-core!=2.0.*,!=2.1.*,!=2.2.*,!=2.3.0,<3.0.0.dev0,>=1.31.5->google-api-python-client) (2024.8.30)\n",
      "Requirement already satisfied: idna<4,>=2.5 in /Users/cindywu/opt/anaconda3/lib/python3.9/site-packages (from requests<3.0.0dev,>=2.18.0->google-api-core!=2.0.*,!=2.1.*,!=2.2.*,!=2.3.0,<3.0.0.dev0,>=1.31.5->google-api-python-client) (3.3)\n",
      "Installing collected packages: google-auth-oauthlib, google-auth-httplib2, google-api-python-client\n",
      "  Attempting uninstall: google-auth-oauthlib\n",
      "    Found existing installation: google-auth-oauthlib 0.8.0\n",
      "    Uninstalling google-auth-oauthlib-0.8.0:\n",
      "      Successfully uninstalled google-auth-oauthlib-0.8.0\n",
      "  Attempting uninstall: google-auth-httplib2\n",
      "    Found existing installation: google-auth-httplib2 0.1.0\n",
      "    Uninstalling google-auth-httplib2-0.1.0:\n",
      "      Successfully uninstalled google-auth-httplib2-0.1.0\n",
      "  Attempting uninstall: google-api-python-client\n",
      "    Found existing installation: google-api-python-client 2.74.0\n",
      "    Uninstalling google-api-python-client-2.74.0:\n",
      "      Successfully uninstalled google-api-python-client-2.74.0\n",
      "Successfully installed google-api-python-client-2.147.0 google-auth-httplib2-0.2.0 google-auth-oauthlib-1.2.1\n"
     ]
    }
   ],
   "source": [
    "!pip install --upgrade google-api-python-client google-auth-httplib2 google-auth-oauthlib"
   ]
  },
  {
   "cell_type": "code",
   "execution_count": 33,
   "metadata": {},
   "outputs": [
    {
     "name": "stdout",
     "output_type": "stream",
     "text": [
      "Collecting openai\n",
      "  Downloading openai-1.51.0-py3-none-any.whl (383 kB)\n",
      "\u001b[2K     \u001b[90m━━━━━━━━━━━━━━━━━━━━━━━━━━━━━━━━━━━━━━━\u001b[0m \u001b[32m383.5/383.5 kB\u001b[0m \u001b[31m4.0 MB/s\u001b[0m eta \u001b[36m0:00:00\u001b[0m00:01\u001b[0m00:01\u001b[0m\n",
      "\u001b[?25hRequirement already satisfied: typing-extensions<5,>=4.11 in /Users/cindywu/opt/anaconda3/lib/python3.9/site-packages (from openai) (4.12.2)\n",
      "Collecting distro<2,>=1.7.0\n",
      "  Downloading distro-1.9.0-py3-none-any.whl (20 kB)\n",
      "Requirement already satisfied: tqdm>4 in /Users/cindywu/opt/anaconda3/lib/python3.9/site-packages (from openai) (4.64.1)\n",
      "Requirement already satisfied: anyio<5,>=3.5.0 in /Users/cindywu/opt/anaconda3/lib/python3.9/site-packages (from openai) (3.5.0)\n",
      "Requirement already satisfied: pydantic<3,>=1.9.0 in /Users/cindywu/opt/anaconda3/lib/python3.9/site-packages (from openai) (1.10.4)\n",
      "Collecting httpx<1,>=0.23.0\n",
      "  Downloading httpx-0.27.2-py3-none-any.whl (76 kB)\n",
      "\u001b[2K     \u001b[90m━━━━━━━━━━━━━━━━━━━━━━━━━━━━━━━━━━━━━━━━\u001b[0m \u001b[32m76.4/76.4 kB\u001b[0m \u001b[31m3.0 MB/s\u001b[0m eta \u001b[36m0:00:00\u001b[0m\n",
      "\u001b[?25hRequirement already satisfied: sniffio in /Users/cindywu/opt/anaconda3/lib/python3.9/site-packages (from openai) (1.2.0)\n",
      "Collecting jiter<1,>=0.4.0\n",
      "  Downloading jiter-0.5.0-cp39-cp39-macosx_10_12_x86_64.whl (284 kB)\n",
      "\u001b[2K     \u001b[90m━━━━━━━━━━━━━━━━━━━━━━━━━━━━━━━━━━━━━━\u001b[0m \u001b[32m284.8/284.8 kB\u001b[0m \u001b[31m10.6 MB/s\u001b[0m eta \u001b[36m0:00:00\u001b[0m\n",
      "\u001b[?25hRequirement already satisfied: idna>=2.8 in /Users/cindywu/opt/anaconda3/lib/python3.9/site-packages (from anyio<5,>=3.5.0->openai) (3.3)\n",
      "Requirement already satisfied: certifi in /Users/cindywu/opt/anaconda3/lib/python3.9/site-packages (from httpx<1,>=0.23.0->openai) (2024.8.30)\n",
      "Collecting httpcore==1.*\n",
      "  Downloading httpcore-1.0.6-py3-none-any.whl (78 kB)\n",
      "\u001b[2K     \u001b[90m━━━━━━━━━━━━━━━━━━━━━━━━━━━━━━━━━━━━━━━━\u001b[0m \u001b[32m78.0/78.0 kB\u001b[0m \u001b[31m3.0 MB/s\u001b[0m eta \u001b[36m0:00:00\u001b[0m\n",
      "\u001b[?25hCollecting h11<0.15,>=0.13\n",
      "  Downloading h11-0.14.0-py3-none-any.whl (58 kB)\n",
      "\u001b[2K     \u001b[90m━━━━━━━━━━━━━━━━━━━━━━━━━━━━━━━━━━━━━━━━\u001b[0m \u001b[32m58.3/58.3 kB\u001b[0m \u001b[31m2.2 MB/s\u001b[0m eta \u001b[36m0:00:00\u001b[0m\n",
      "\u001b[?25hInstalling collected packages: jiter, h11, distro, httpcore, httpx, openai\n",
      "Successfully installed distro-1.9.0 h11-0.14.0 httpcore-1.0.6 httpx-0.27.2 jiter-0.5.0 openai-1.51.0\n"
     ]
    }
   ],
   "source": [
    "!pip install openai"
   ]
  },
  {
   "cell_type": "code",
   "execution_count": 66,
   "metadata": {},
   "outputs": [],
   "source": [
    "from openai import OpenAI\n",
    "import openai\n",
    "import json\n",
    "\n",
    "# Load the OpenAI API key from a JSON file\n",
    "def load_api_key(filepath=\"openaikey.json\"):\n",
    "    with open(filepath, \"r\") as file:\n",
    "        data = json.load(file)\n",
    "        return data.get(\"plyhealthprotokey\")\n",
    "# Function to extract action items using OpenAI GPT model\n",
    "def comprehend_email_with_gpt(body):\n",
    "    api_key = load_api_key()\n",
    "    client = OpenAI(api_key=api_key)\n",
    "    response = client.chat.completions.create(\n",
    "      model=\"gpt-3.5-turbo\",\n",
    "      messages=[\n",
    "        {\"role\": \"system\", \"content\": \"You are a helpful assistant helping healthcare providers respond to payer enrollment emails.\"},\n",
    "        {\n",
    "            \"role\": \"user\",\n",
    "            \"content\": f\"Extract actions from the following emails:\\n{body}\"\n",
    "        }\n",
    "      ]\n",
    "    )\n",
    "    return response"
   ]
  },
  {
   "cell_type": "code",
   "execution_count": 68,
   "metadata": {},
   "outputs": [
    {
     "name": "stdout",
     "output_type": "stream",
     "text": [
      "Messages:\n"
     ]
    }
   ],
   "source": [
    "import os.path\n",
    "import email\n",
    "import base64\n",
    "\n",
    "from google.auth.transport.requests import Request\n",
    "from google.oauth2.credentials import Credentials\n",
    "from google_auth_oauthlib.flow import InstalledAppFlow\n",
    "from googleapiclient.discovery import build\n",
    "from googleapiclient.errors import HttpError\n",
    "\n",
    "# If modifying these scopes, delete the file token.json.\n",
    "SCOPES = [\"https://www.googleapis.com/auth/gmail.readonly\"]\n",
    "\n",
    "\"\"\"Shows basic usage of the Gmail API.\n",
    "Lists the user's Gmail labels.\n",
    "\"\"\"\n",
    "creds = None\n",
    "# The file token.json stores the user's access and refresh tokens, and is\n",
    "# created automatically when the authorization flow completes for the first\n",
    "# time.\n",
    "if os.path.exists(\"token.json\"):\n",
    "  creds = Credentials.from_authorized_user_file(\"token.json\", SCOPES)\n",
    "# If there are no (valid) credentials available, let the user log in.\n",
    "if not creds or not creds.valid:\n",
    "  if creds and creds.expired and creds.refresh_token:\n",
    "    creds.refresh(Request())\n",
    "  else:\n",
    "    flow = InstalledAppFlow.from_client_secrets_file(\n",
    "        \"credentials.json\", SCOPES\n",
    "    )\n",
    "    creds = flow.run_local_server(port=0)\n",
    "  # Save the credentials for the next run\n",
    "  with open(\"token.json\", \"w\") as token:\n",
    "    token.write(creds.to_json())\n",
    "\n",
    "try:\n",
    "  # Call the Gmail API\n",
    "  service = build(\"gmail\", \"v1\", credentials=creds)\n",
    "  messages = service.users().messages().list(userId=\"me\").execute().get(\"messages\")\n",
    "  print(\"Messages:\")\n",
    "  for message in messages:\n",
    "    text = service.users().messages().get(userId=\"me\", id=message['id'],format='raw').execute()\n",
    "    # Decode the raw message from base64\n",
    "    msg_str = base64.urlsafe_b64decode(text['raw'].encode('ASCII'))\n",
    "\n",
    "    # Parse the message using the email library\n",
    "    mime_msg = email.message_from_bytes(msg_str)\n",
    "\n",
    "    # Walk through the parts to extract the body\n",
    "    for part in mime_msg.walk():\n",
    "        if part.get_content_type() == 'text/plain' and part.get_content_disposition() is None:\n",
    "            body = part.get_payload(decode=True)  # Decode the message body\n",
    "            body_text = body.decode()  # Convert from bytes to string\n",
    "            response = comprehend_email_with_gpt(body_text)\n",
    "            print(response.choices[0].message.content)\n",
    "\n",
    "except HttpError as error:\n",
    "  print(f\"An error occurred: {error}\")"
   ]
  }
 ],
 "metadata": {
  "kernelspec": {
   "display_name": "Python 3",
   "language": "python",
   "name": "python3"
  },
  "language_info": {
   "codemirror_mode": {
    "name": "ipython",
    "version": 3
   },
   "file_extension": ".py",
   "mimetype": "text/x-python",
   "name": "python",
   "nbconvert_exporter": "python",
   "pygments_lexer": "ipython3",
   "version": "3.9.13"
  }
 },
 "nbformat": 4,
 "nbformat_minor": 2
}
